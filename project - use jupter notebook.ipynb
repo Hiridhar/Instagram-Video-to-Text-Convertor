{
 "cells": [
  {
   "cell_type": "markdown",
   "id": "be68ddae",
   "metadata": {},
   "source": [
    "# we need to install packages"
   ]
  },
  {
   "cell_type": "code",
   "execution_count": null,
   "id": "8820e2ad",
   "metadata": {},
   "outputs": [],
   "source": [
    "! pip install instaloader"
   ]
  },
  {
   "cell_type": "markdown",
   "id": "20df8bf5",
   "metadata": {},
   "source": [
    "### Download instagram video by using instagram post link"
   ]
  },
  {
   "cell_type": "code",
   "execution_count": 1,
   "id": "8175399c",
   "metadata": {},
   "outputs": [],
   "source": [
    "import instaloader, requests"
   ]
  },
  {
   "cell_type": "code",
   "execution_count": 2,
   "id": "211de2ca",
   "metadata": {},
   "outputs": [],
   "source": [
    "l=instaloader.Instaloader()"
   ]
  },
  {
   "cell_type": "markdown",
   "id": "3d833f26",
   "metadata": {},
   "source": [
    "* https://www.instagram.com/p/CvHvxaKAJUZ/\n",
    "* https://www.instagram.com/p/CzFOdpSAj6s/\n",
    "* https://www.instagram.com/p/C2DzIjwsxn6/\n",
    "* https://www.instagram.com/p/Cv3jRIwogJp/\n",
    "* https://www.instagram.com/p/CvPiCrxgkD2/\n",
    "* https://www.instagram.com/p/CsjQeLWgynO/\n",
    "* https://www.instagram.com/p/CsCCE7nAt_H/\n",
    "* https://www.instagram.com/p/C6v1GdSgXAj/\n",
    "* https://www.instagram.com/p/C6dyOnjggyU/\n",
    "* https://www.instagram.com/p/C6WClyEgO5U/"
   ]
  },
  {
   "cell_type": "markdown",
   "id": "19717d40",
   "metadata": {},
   "source": [
    "* copy the postcode"
   ]
  },
  {
   "cell_type": "code",
   "execution_count": 33,
   "id": "17603dbc",
   "metadata": {},
   "outputs": [],
   "source": [
    "post = instaloader.Post.from_shortcode(l.context,\"C6WClyEgO5U\")"
   ]
  },
  {
   "cell_type": "code",
   "execution_count": 34,
   "id": "7343791c",
   "metadata": {},
   "outputs": [],
   "source": [
    "with open(\"video9.mp4\", \"wb\") as f:\n",
    "    f.write(requests.get(post.video_url).content)"
   ]
  },
  {
   "cell_type": "markdown",
   "id": "b141ef5e",
   "metadata": {},
   "source": [
    "## Extrack the Audio from Video"
   ]
  },
  {
   "cell_type": "code",
   "execution_count": null,
   "id": "5492a34a",
   "metadata": {},
   "outputs": [],
   "source": [
    "!pip install moviepy #install the package"
   ]
  },
  {
   "cell_type": "code",
   "execution_count": 5,
   "id": "b9574e93",
   "metadata": {},
   "outputs": [],
   "source": [
    "import moviepy.editor as mp"
   ]
  },
  {
   "cell_type": "code",
   "execution_count": 35,
   "id": "a6619feb",
   "metadata": {},
   "outputs": [
    {
     "name": "stdout",
     "output_type": "stream",
     "text": [
      "MoviePy - Writing audio in new10.wav\n"
     ]
    },
    {
     "name": "stderr",
     "output_type": "stream",
     "text": [
      "                                                                                                                      "
     ]
    },
    {
     "name": "stdout",
     "output_type": "stream",
     "text": [
      "MoviePy - Done.\n"
     ]
    },
    {
     "name": "stderr",
     "output_type": "stream",
     "text": [
      "\r"
     ]
    }
   ],
   "source": [
    "clip=mp.VideoFileClip(r\"video9.mp4\")\n",
    "clip.audio.write_audiofile(r\"new10.wav\")"
   ]
  },
  {
   "cell_type": "markdown",
   "id": "4c743f75",
   "metadata": {},
   "source": [
    "# Finished go to google colab"
   ]
  }
 ],
 "metadata": {
  "kernelspec": {
   "display_name": "Python 3 (ipykernel)",
   "language": "python",
   "name": "python3"
  },
  "language_info": {
   "codemirror_mode": {
    "name": "ipython",
    "version": 3
   },
   "file_extension": ".py",
   "mimetype": "text/x-python",
   "name": "python",
   "nbconvert_exporter": "python",
   "pygments_lexer": "ipython3",
   "version": "3.11.5"
  }
 },
 "nbformat": 4,
 "nbformat_minor": 5
}
